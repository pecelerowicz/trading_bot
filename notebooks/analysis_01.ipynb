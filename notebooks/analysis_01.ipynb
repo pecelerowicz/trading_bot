{
 "cells": [
  {
   "cell_type": "code",
   "execution_count": null,
   "id": "785ed387",
   "metadata": {},
   "outputs": [],
   "source": [
    "import pandas as pd\n",
    "pd.set_option('display.max_rows', None)  # Wyświetla wszystkie wiersze\n",
    "pd.set_option('display.max_columns', None)  # Wyświetla wszystkie kolumny\n",
    "pd.set_option('display.width', 1000)  # Szerszy output, by uniknąć zawijania\n",
    "pd.options.display.float_format = '{:.2f}'.format\n",
    "\n",
    "import sys\n",
    "import os\n",
    "sys.path.append(os.path.abspath(\"..\"))\n",
    "\n",
    "import matplotlib.pyplot as plt\n",
    "\n",
    "from bot.data.historic.binance_client_wrapper import BinanceClientWrapper\n",
    "from bot.data.historic.binance_data_fetcher import BinanceDataFetcher\n",
    "from bot.core.utils import Utils\n",
    "\n",
    "# client = BinanceClientWrapper()\n",
    "# client.get_klines('BTCUSDC', '1h', 1735689600000, 1740614400000)\n",
    "\n",
    "fetcher = BinanceDataFetcher()\n",
    "\n",
    "\n",
    "df_1 = fetcher.fetch_klines_dates('BTCUSDT', '5m', '2025-03-04 00:00:00', '2025-03-04 23:59:59', 0) # \"%Y-%m-%d %H:%M:%S\"\n",
    "df_1 = Utils.add_stoch_rsi(df_1)\n",
    "df_1['timestamp'] = pd.to_datetime(df_1['timestamp'], unit='ms').dt.strftime('%Y-%m-%d %H:%M:%S')\n",
    "df_1 = df_1.drop(columns=['open', 'high', 'low', 'volume', 'is_closed', 'symbol', 'interval'])\n",
    "\n",
    "print(df_1);"
   ]
  },
  {
   "cell_type": "code",
   "execution_count": null,
   "id": "91966d7d",
   "metadata": {},
   "outputs": [],
   "source": [
    "plt.figure(figsize=(12, 6))\n",
    "plt.plot(df_1['timestamp'], df_1['stoch_rsi_k'], label='Stoch RSI K', color='b')\n",
    "\n",
    "# Formatowanie wykresu\n",
    "plt.xticks(df_1['timestamp'][::20], rotation=45)\n",
    "\n",
    "plt.xlabel('Timestamp')\n",
    "plt.ylabel('Stochastic RSI K')\n",
    "plt.title('Stochastic RSI K over Time')\n",
    "plt.legend()\n",
    "plt.xticks(rotation=45)  # Rotacja etykiet na osi X\n",
    "plt.grid(True)\n",
    "\n",
    "y_min, y_max = df_1['stoch_rsi_k'].min(), df_1['stoch_rsi_k'].max()\n",
    "plt.ylim(y_min, y_max * 4)\n",
    "\n",
    "# Wyświetlenie wykresu\n",
    "plt.show()"
   ]
  },
  {
   "cell_type": "code",
   "execution_count": null,
   "id": "db1ebe16",
   "metadata": {},
   "outputs": [],
   "source": [
    "df_2 = fetcher.fetch_klines_dates('BTCUSDT', '1m', '2025-03-04 00:00:00', '2025-03-04 23:59:59', 0) # \"%Y-%m-%d %H:%M:%S\"\n",
    "df_2 = Utils.add_stoch_rsi(df_2)\n",
    "df_2['timestamp'] = pd.to_datetime(df_2['timestamp'], unit='ms').dt.strftime('%Y-%m-%d %H:%M:%S')\n",
    "df_2 = df_2.drop(columns=['open', 'high', 'low', 'volume', 'is_closed', 'symbol', 'interval'])\n",
    "\n",
    "print(df_2);"
   ]
  },
  {
   "cell_type": "code",
   "execution_count": null,
   "id": "6d52fefa",
   "metadata": {},
   "outputs": [],
   "source": [
    "plt.figure(figsize=(12, 6))\n",
    "plt.plot(df_2['timestamp'], df_2['stoch_rsi_k'], label='Stoch RSI K', color='b')\n",
    "\n",
    "# Formatowanie wykresu\n",
    "plt.xticks(df_2['timestamp'][::20], rotation=45)\n",
    "\n",
    "plt.xlabel('Timestamp')\n",
    "plt.ylabel('Stochastic RSI K')\n",
    "plt.title('Stochastic RSI K over Time')\n",
    "plt.legend()\n",
    "plt.xticks(rotation=45)  # Rotacja etykiet na osi X\n",
    "plt.grid(True)\n",
    "\n",
    "y_min, y_max = df_2['stoch_rsi_k'].min(), df_2['stoch_rsi_k'].max()\n",
    "plt.ylim(y_min, y_max * 4)\n",
    "\n",
    "# Wyświetlenie wykresu\n",
    "plt.show()"
   ]
  },
  {
   "cell_type": "code",
   "execution_count": null,
   "id": "ca1daa54",
   "metadata": {},
   "outputs": [],
   "source": [
    "df_1"
   ]
  },
  {
   "cell_type": "code",
   "execution_count": null,
   "id": "13d04c44",
   "metadata": {},
   "outputs": [],
   "source": [
    "df_1 = fetcher.fetch_klines_dates('BTCUSDT', '5m', '2025-03-04 00:00:00', '2025-03-04 23:59:59', 0) # \"%Y-%m-%d %H:%M:%S\"\n",
    "df_1['timestamp'] = pd.to_datetime(df_1['timestamp'], unit='ms').dt.strftime('%Y-%m-%d %H:%M:%S')\n",
    "df_1 = df_1[['timestamp', 'close']]\n",
    "df_1 = Utils.add_stoch_rsi(df_1)\n",
    "df_1"
   ]
  },
  {
   "cell_type": "code",
   "execution_count": null,
   "id": "fe4a8c25",
   "metadata": {},
   "outputs": [],
   "source": [
    "import matplotlib.pyplot as plt\n",
    "\n",
    "plt.figure(figsize=(12, 6))\n",
    "\n",
    "# Rysowanie linii dla Stoch RSI K\n",
    "plt.plot(df_1['timestamp'], df_1['stoch_rsi_k'], label='Stoch RSI K', color='b')\n",
    "\n",
    "# Rysowanie linii dla Stoch RSI D\n",
    "plt.plot(df_1['timestamp'], df_1['stoch_rsi_d'], label='Stoch RSI D', color='r')\n",
    "\n",
    "# Formatowanie wykresu\n",
    "plt.xticks(df_1['timestamp'][::20], rotation=45)\n",
    "plt.xlabel('Timestamp')\n",
    "plt.ylabel('Stochastic RSI')\n",
    "plt.title('Stochastic RSI K & D over Time')\n",
    "plt.legend()\n",
    "plt.grid(True)\n",
    "\n",
    "# Ustawienie zakresu dla osi Y\n",
    "y_min = min(df_1['stoch_rsi_k'].min(), df_1['stoch_rsi_d'].min())\n",
    "y_max = max(df_1['stoch_rsi_k'].max(), df_1['stoch_rsi_d'].max())\n",
    "plt.ylim(y_min, y_max * 1.1)  # Dodanie lekkiego marginesu\n",
    "\n",
    "# Wyświetlenie wykresu\n",
    "plt.show()\n"
   ]
  },
  {
   "cell_type": "code",
   "execution_count": null,
   "id": "c5bd745f",
   "metadata": {},
   "outputs": [],
   "source": [
    "import numpy as np\n",
    "\n",
    "# Tworzymy nową kolumnę crossover, domyślnie 0\n",
    "df['crossover'] = 0\n",
    "\n",
    "# Warunki przecięcia\n",
    "for i in range(1, len(df)):\n",
    "    if not np.isnan(df.loc[i, 'stoch_rsi_k']) and not np.isnan(df.loc[i, 'stoch_rsi_d']):\n",
    "        prev_k = df.loc[i - 1, 'stoch_rsi_k']\n",
    "        prev_d = df.loc[i - 1, 'stoch_rsi_d']\n",
    "        curr_k = df.loc[i, 'stoch_rsi_k']\n",
    "        curr_d = df.loc[i, 'stoch_rsi_d']\n",
    "        \n",
    "        # Przecięcie od dołu (sygnał kupna)\n",
    "        if prev_k < prev_d and curr_k > curr_d:\n",
    "            df.loc[i, 'crossover'] = 1\n",
    "        \n",
    "        # Przecięcie od góry (sygnał sprzedaży)\n",
    "        elif prev_k > prev_d and curr_k < curr_d:\n",
    "            df.loc[i, 'crossover'] = -1"
   ]
  },
  {
   "cell_type": "code",
   "execution_count": null,
   "id": "902ae945",
   "metadata": {},
   "outputs": [],
   "source": [
    "df"
   ]
  },
  {
   "cell_type": "code",
   "execution_count": null,
   "id": "b5b3e278",
   "metadata": {},
   "outputs": [],
   "source": []
  }
 ],
 "metadata": {
  "kernelspec": {
   "display_name": "Python 3 (ipykernel)",
   "language": "python",
   "name": "python3"
  },
  "language_info": {
   "codemirror_mode": {
    "name": "ipython",
    "version": 3
   },
   "file_extension": ".py",
   "mimetype": "text/x-python",
   "name": "python",
   "nbconvert_exporter": "python",
   "pygments_lexer": "ipython3",
   "version": "3.9.20"
  }
 },
 "nbformat": 4,
 "nbformat_minor": 5
}
