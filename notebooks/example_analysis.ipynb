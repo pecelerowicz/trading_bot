{
 "cells": [
  {
   "cell_type": "code",
   "execution_count": null,
   "id": "ebc59007",
   "metadata": {},
   "outputs": [],
   "source": [
    "import pandas as pd\n",
    "pd.set_option('display.max_rows', None)  # Wyświetla wszystkie wiersze\n",
    "pd.set_option('display.max_columns', None)  # Wyświetla wszystkie kolumny\n",
    "pd.set_option('display.width', 1000)  # Szerszy output, by uniknąć zawijania\n",
    "pd.options.display.float_format = '{:.2f}'.format\n",
    "\n",
    "import sys\n",
    "import os\n",
    "sys.path.append(os.path.abspath(\"..\"))\n",
    "\n",
    "from bot.data.historic.binance_client_wrapper import BinanceClientWrapper\n",
    "from bot.data.historic.binance_data_fetcher import BinanceDataFetcher\n",
    "from bot.core.utils import Utils\n",
    "\n",
    "# client = BinanceClientWrapper()\n",
    "# client.get_klines('BTCUSDC', '1h', 1735689600000, 1740614400000)\n",
    "\n",
    "fetcher = BinanceDataFetcher()\n",
    "df = fetcher.fetch_klines_dates('BTCUSDT', '5m', '2025-01-01 00:00:00', '2025-01-31 23:59:59', 0) # \"%Y-%m-%d %H:%M:%S\"\n",
    "df = Utils.add_stoch_rsi(df)\n",
    "df['timestamp'] = pd.to_datetime(df['timestamp'], unit='ms').dt.strftime('%Y-%m-%d %H:%M:%S')\n",
    "print(df);"
   ]
  },
  {
   "cell_type": "code",
   "execution_count": null,
   "id": "024c7e04",
   "metadata": {},
   "outputs": [],
   "source": [
    "import pandas as pd\n",
    "\n",
    "def find_stoch_rsi_periods(df, threshold=20, min_length=15):\n",
    "    \"\"\"\n",
    "    Znajduje okresy, gdzie stoch_rsi_k pozostaje poniżej threshold przez min_length świec\n",
    "    i zwraca listę DataFrame'ów obejmujących te okresy.\n",
    "    \n",
    "    :param df: DataFrame zawierający kolumnę 'stoch_rsi_k' i 'timestamp'.\n",
    "    :param threshold: Próg dla stoch_rsi_k (domyślnie 20).\n",
    "    :param min_length: Minimalna liczba świec poniżej threshold (domyślnie 20).\n",
    "    :return: Lista DataFrame'ów spełniających warunek.\n",
    "    \"\"\"\n",
    "    below_threshold = df['stoch_rsi_k'] < threshold\n",
    "    periods = []\n",
    "    start_idx = None\n",
    "\n",
    "    for i in range(len(df)):\n",
    "        if below_threshold.iloc[i]:\n",
    "            if start_idx is None:\n",
    "                start_idx = i  # Początek serii świec poniżej threshold\n",
    "        else:\n",
    "            if start_idx is not None and (i - start_idx) >= min_length:\n",
    "                # Tworzymy DataFrame dla tego okresu i dodajemy do listy\n",
    "                periods.append(df.iloc[start_idx:i].copy())\n",
    "            start_idx = None\n",
    "\n",
    "    return periods\n",
    "\n",
    "# Wywołanie funkcji na DataFrame 'df'\n",
    "stoch_rsi_dfs = find_stoch_rsi_periods(df)\n",
    "\n",
    "# Wyświetlenie wyników\n",
    "for idx, df_period in enumerate(stoch_rsi_dfs):\n",
    "    print(f\"Okres {idx + 1}:\")\n",
    "    print(df_period)\n",
    "    print(\"-\" * 40)\n"
   ]
  },
  {
   "cell_type": "code",
   "execution_count": null,
   "id": "5b572419",
   "metadata": {},
   "outputs": [],
   "source": []
  }
 ],
 "metadata": {
  "kernelspec": {
   "display_name": "Python 3 (ipykernel)",
   "language": "python",
   "name": "python3"
  },
  "language_info": {
   "codemirror_mode": {
    "name": "ipython",
    "version": 3
   },
   "file_extension": ".py",
   "mimetype": "text/x-python",
   "name": "python",
   "nbconvert_exporter": "python",
   "pygments_lexer": "ipython3",
   "version": "3.9.20"
  }
 },
 "nbformat": 4,
 "nbformat_minor": 5
}
