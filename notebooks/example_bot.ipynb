{
 "cells": [
  {
   "cell_type": "code",
   "execution_count": 1,
   "id": "f0d24e30",
   "metadata": {},
   "outputs": [
    {
     "ename": "ModuleNotFoundError",
     "evalue": "No module named 'data'",
     "output_type": "error",
     "traceback": [
      "\u001b[1;31m---------------------------------------------------------------------------\u001b[0m",
      "\u001b[1;31mModuleNotFoundError\u001b[0m                       Traceback (most recent call last)",
      "Cell \u001b[1;32mIn[1], line 10\u001b[0m\n\u001b[0;32m      7\u001b[0m \u001b[38;5;28;01mimport\u001b[39;00m \u001b[38;5;21;01mnest_asyncio\u001b[39;00m\n\u001b[0;32m      9\u001b[0m \u001b[38;5;28;01mfrom\u001b[39;00m \u001b[38;5;21;01mbot\u001b[39;00m\u001b[38;5;21;01m.\u001b[39;00m\u001b[38;5;21;01mdata\u001b[39;00m\u001b[38;5;21;01m.\u001b[39;00m\u001b[38;5;21;01mstream\u001b[39;00m\u001b[38;5;21;01m.\u001b[39;00m\u001b[38;5;21;01mmultiple_tickers_data_source\u001b[39;00m \u001b[38;5;28;01mimport\u001b[39;00m MultipleTickersDataSource\n\u001b[1;32m---> 10\u001b[0m \u001b[38;5;28;01mfrom\u001b[39;00m \u001b[38;5;21;01mdata\u001b[39;00m\u001b[38;5;21;01m.\u001b[39;00m\u001b[38;5;21;01mbinance_stream_manager\u001b[39;00m \u001b[38;5;28;01mimport\u001b[39;00m BinanceStreamManager\n\u001b[0;32m     11\u001b[0m \u001b[38;5;66;03m# from data.binance_data_fetcher import BinanceDataFetcher\u001b[39;00m\n\u001b[0;32m     12\u001b[0m \u001b[38;5;66;03m# from core.candle_store import CandleStore\u001b[39;00m\n\u001b[0;32m     13\u001b[0m \u001b[38;5;28;01mfrom\u001b[39;00m \u001b[38;5;21;01mcore\u001b[39;00m\u001b[38;5;21;01m.\u001b[39;00m\u001b[38;5;21;01mstrategy03\u001b[39;00m \u001b[38;5;28;01mimport\u001b[39;00m Strategy03\n",
      "\u001b[1;31mModuleNotFoundError\u001b[0m: No module named 'data'"
     ]
    }
   ],
   "source": [
    "import sys\n",
    "import os\n",
    "\n",
    "sys.path.append(os.path.abspath(\"..\"))\n",
    "\n",
    "import asyncio\n",
    "import nest_asyncio\n",
    "\n",
    "from bot.data.stream.multiple_tickers_data_source import MultipleTickersDataSource\n",
    "from data.binance_stream_manager import BinanceStreamManager\n",
    "# from data.binance_data_fetcher import BinanceDataFetcher\n",
    "# from core.candle_store import CandleStore\n",
    "from core.strategy03 import Strategy03\n",
    "from core.strategy04 import Strategy04\n",
    "from core.strategy05 import Strategy05\n",
    "from core.executor import Executor\n",
    "from core.engine import Engine\n",
    "\n",
    "# Konfiguracja parametrów\n",
    "tickers = [\"BTCUSDT\", \"ETHUSDT\", \"DOTUSDT\", \"AVAXUSDT\", \"SOLUSDT\", \"XRPUSDT\", \"ADAUSDT\", \"PEPEUSDT\", \"LINKUSDT\"]\n",
    "source_interval = \"1m\"\n",
    "intervals = ['1m', '5m', '15m', '1h', '4h', '1d'] \n",
    "number_candles = 50\n",
    "\n",
    "# Tworzenie komponentów\n",
    "# binance_data_fetcher = BinanceDataFetcher()\n",
    "data_source = MultipleTickersDataSource(tickers=tickers, interval=source_interval, only_closed=False)\n",
    "\n",
    "# Strategia z domyślnymi kolumnami: 'time_utc', 'open', 'close', 'is_closed'\n",
    "# strategy03 = Strategy03(tickers, intervals, number_candles, display_columns=['time_utc', 'open', 'close', 'volume', 'is_closed'])\n",
    "# strategy04 = Strategy04(tickers, intervals, number_candles, display_columns=['time_utc', 'open', 'close', 'volume', 'is_closed'])\n",
    "strategy05 = Strategy05(tickers, intervals, number_candles, display_columns=['time_utc', 'open', 'close', 'volume', 'is_closed'])\n",
    "executor = Executor(\n",
    "    bot_token=\"7807553871:AAEwfpf5kJbD0zeV41nKM07h4fesXmnz1nI\",  # Twój token\n",
    "    chat_id=5939592276  # Twoje chat_id\n",
    ")\n",
    "engine = Engine(data_source, executor)\n",
    "# engine.add_strategy(strategy03)\n",
    "# engine.add_strategy(strategy04)\n",
    "engine.add_strategy(strategy05)\n",
    "\n",
    "# Zastosowanie nest_asyncio dla Jupyter Notebook lub środowisk interaktywnych\n",
    "nest_asyncio.apply()\n",
    "\n",
    "# Główna funkcja asynchroniczna\n",
    "async def main():\n",
    "    engine.setup()\n",
    "    await engine.start()\n",
    "\n",
    "# Uruchomienie\n",
    "await main()"
   ]
  },
  {
   "cell_type": "code",
   "execution_count": null,
   "id": "80815b34",
   "metadata": {},
   "outputs": [],
   "source": []
  }
 ],
 "metadata": {
  "kernelspec": {
   "display_name": "Python 3 (ipykernel)",
   "language": "python",
   "name": "python3"
  },
  "language_info": {
   "codemirror_mode": {
    "name": "ipython",
    "version": 3
   },
   "file_extension": ".py",
   "mimetype": "text/x-python",
   "name": "python",
   "nbconvert_exporter": "python",
   "pygments_lexer": "ipython3",
   "version": "3.9.20"
  }
 },
 "nbformat": 4,
 "nbformat_minor": 5
}
