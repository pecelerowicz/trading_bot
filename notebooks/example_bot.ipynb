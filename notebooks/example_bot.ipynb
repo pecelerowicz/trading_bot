{
 "cells": [
  {
   "cell_type": "code",
   "execution_count": null,
   "id": "0",
   "metadata": {},
   "outputs": [],
   "source": [
    "import os\n",
    "import yaml\n",
    "\n",
    "# Pobranie katalogu bazowego (wyjście poziom wyżej z `notebooks/`)\n",
    "BASE_DIR = os.path.abspath(os.path.join(os.getcwd(), \"..\"))\n",
    "\n",
    "# Tworzenie poprawnej ścieżki do pliku `config.yaml`\n",
    "CONFIG_PATH = os.path.join(BASE_DIR, \"config.yaml\")\n",
    "\n",
    "# Wczytanie pliku YAML\n",
    "with open(CONFIG_PATH, \"r\") as f:\n",
    "    config = yaml.safe_load(f)\n",
    "\n",
    "bot_token = config[\"telegram\"][\"bot_token\"]\n",
    "chat_id = config[\"telegram\"][\"chat_id\"]"
   ]
  },
  {
   "cell_type": "code",
   "execution_count": null,
   "id": "1",
   "metadata": {},
   "outputs": [],
   "source": [
    "import sys\n",
    "import os\n",
    "\n",
    "sys.path.append(os.path.abspath(\"..\"))\n",
    "\n",
    "import asyncio\n",
    "import nest_asyncio\n",
    "\n",
    "from bot.data.stream.multiple_tickers_data_source import MultipleTickersDataSource\n",
    "from bot.data.stream.binance_stream_manager import BinanceStreamManager\n",
    "# from data.binance_data_fetcher import BinanceDataFetcher\n",
    "# from core.candle_store import CandleStore\n",
    "from bot.core.strategy03 import Strategy03\n",
    "from bot.core.strategy04 import Strategy04\n",
    "from bot.core.strategy05 import Strategy05\n",
    "from bot.core.executor import Executor\n",
    "from bot.core.engine import Engine\n",
    "\n",
    "# Konfiguracja parametrów\n",
    "tickers = [\"BTCUSDT\", \"ETHUSDT\", \"DOTUSDT\", \"AVAXUSDT\", \"SOLUSDT\", \"XRPUSDT\", \"ADAUSDT\", \"PEPEUSDT\", \"LINKUSDT\"]\n",
    "source_interval = \"1m\"\n",
    "intervals = ['1m', '5m', '15m', '1h', '4h', '1d'] \n",
    "number_candles = 50\n",
    "\n",
    "# Tworzenie komponentów\n",
    "# binance_data_fetcher = BinanceDataFetcher()\n",
    "data_source = MultipleTickersDataSource(tickers=tickers, interval=source_interval, only_closed=False)\n",
    "\n",
    "# Strategia z domyślnymi kolumnami: 'time_utc', 'open', 'close', 'is_closed'\n",
    "# strategy03 = Strategy03(tickers, intervals, number_candles, display_columns=['time_utc', 'open', 'close', 'volume', 'is_closed'])\n",
    "# strategy04 = Strategy04(tickers, intervals, number_candles, display_columns=['time_utc', 'open', 'close', 'volume', 'is_closed'])\n",
    "strategy05 = Strategy05(tickers, intervals, number_candles, display_columns=['time_utc', 'open', 'close', 'volume', 'is_closed'])\n",
    "executor = Executor(bot_token=bot_token, chat_id=chat_id)\n",
    "engine = Engine(data_source, executor)\n",
    "# engine.add_strategy(strategy03)\n",
    "# engine.add_strategy(strategy04)\n",
    "engine.add_strategy(strategy05)\n",
    "\n",
    "# Zastosowanie nest_asyncio dla Jupyter Notebook lub środowisk interaktywnych\n",
    "nest_asyncio.apply()\n",
    "\n",
    "# Główna funkcja asynchroniczna\n",
    "async def main():\n",
    "    engine.setup()\n",
    "    await engine.start()\n",
    "\n",
    "# Uruchomienie\n",
    "await main()"
   ]
  },
  {
   "cell_type": "code",
   "execution_count": null,
   "id": "2",
   "metadata": {},
   "outputs": [],
   "source": []
  },
  {
   "cell_type": "code",
   "execution_count": null,
   "id": "3",
   "metadata": {},
   "outputs": [],
   "source": []
  },
  {
   "cell_type": "code",
   "execution_count": null,
   "id": "4",
   "metadata": {},
   "outputs": [],
   "source": []
  }
 ],
 "metadata": {
  "kernelspec": {
   "display_name": "Python 3 (ipykernel)",
   "language": "python",
   "name": "python3"
  },
  "language_info": {
   "codemirror_mode": {
    "name": "ipython",
    "version": 3
   },
   "file_extension": ".py",
   "mimetype": "text/x-python",
   "name": "python",
   "nbconvert_exporter": "python",
   "pygments_lexer": "ipython3",
   "version": "3.9.20"
  }
 },
 "nbformat": 4,
 "nbformat_minor": 5
}
